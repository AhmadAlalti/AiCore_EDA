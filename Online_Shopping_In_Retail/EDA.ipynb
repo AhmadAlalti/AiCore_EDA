{
 "cells": [
  {
   "cell_type": "code",
   "execution_count": 19,
   "metadata": {},
   "outputs": [],
   "source": [
    "from db_utils import read_csv_table\n",
    "from db_info import DataFrameInfo\n",
    "from db_transform import DataTransform\n",
    "\n",
    "customer_activity_df = read_csv_table('/Users/ahmad/Desktop/GitHub/AiCore_EDA/Online_Shopping_In_Retail/customer_activity.csv')\n",
    "df_info = DataFrameInfo(customer_activity_df)\n",
    "transformer = DataTransform(customer_activity_df)\n"
   ]
  },
  {
   "cell_type": "code",
   "execution_count": null,
   "metadata": {},
   "outputs": [],
   "source": [
    "transformed_df = transformer.transform_column_types()\n",
    "transformed_df"
   ]
  },
  {
   "cell_type": "code",
   "execution_count": null,
   "metadata": {},
   "outputs": [],
   "source": [
    "print(df_info.describe_columns())\n",
    "print(df_info.extract_statistics())\n",
    "print(df_info.count_distinct_values())\n",
    "df_info.print_dataframe_shape()\n",
    "print(df_info.count_null_values())"
   ]
  },
  {
   "cell_type": "code",
   "execution_count": null,
   "metadata": {},
   "outputs": [],
   "source": []
  }
 ],
 "metadata": {
  "kernelspec": {
   "display_name": "EDA",
   "language": "python",
   "name": "python3"
  },
  "language_info": {
   "codemirror_mode": {
    "name": "ipython",
    "version": 3
   },
   "file_extension": ".py",
   "mimetype": "text/x-python",
   "name": "python",
   "nbconvert_exporter": "python",
   "pygments_lexer": "ipython3",
   "version": "3.9.0"
  },
  "orig_nbformat": 4
 },
 "nbformat": 4,
 "nbformat_minor": 2
}
